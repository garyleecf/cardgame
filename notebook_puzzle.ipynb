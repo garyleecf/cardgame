{
 "cells": [
  {
   "cell_type": "code",
   "execution_count": 3,
   "metadata": {},
   "outputs": [
    {
     "name": "stdout",
     "output_type": "stream",
     "text": [
      "The autoreload extension is already loaded. To reload it, use:\n",
      "  %reload_ext autoreload\n",
      "Obtaining file:///D:/cardgame\n",
      "Requirement already satisfied: gym in d:\\program\\anaconda3\\envs\\test\\lib\\site-packages (from gym-cardgame==0.1.0) (0.17.3)\n",
      "Requirement already satisfied: rlcard in d:\\program\\anaconda3\\envs\\test\\lib\\site-packages (from gym-cardgame==0.1.0) (0.2.6)\n",
      "Requirement already satisfied: numpy in d:\\program\\anaconda3\\envs\\test\\lib\\site-packages (from gym-cardgame==0.1.0) (1.18.1)\n",
      "Requirement already satisfied: pyglet<=1.5.0,>=1.4.0 in d:\\program\\anaconda3\\envs\\test\\lib\\site-packages (from gym->gym-cardgame==0.1.0) (1.5.0)\n",
      "Requirement already satisfied: cloudpickle<1.7.0,>=1.2.0 in d:\\program\\anaconda3\\envs\\test\\lib\\site-packages (from gym->gym-cardgame==0.1.0) (1.6.0)\n",
      "Requirement already satisfied: scipy in d:\\program\\anaconda3\\envs\\test\\lib\\site-packages (from gym->gym-cardgame==0.1.0) (1.4.1)\n",
      "Requirement already satisfied: termcolor in d:\\program\\anaconda3\\envs\\test\\lib\\site-packages (from rlcard->gym-cardgame==0.1.0) (1.1.0)\n",
      "Requirement already satisfied: pillow>=5.2.0 in d:\\program\\anaconda3\\envs\\test\\lib\\site-packages (from rlcard->gym-cardgame==0.1.0) (7.0.0)\n",
      "Requirement already satisfied: packaging in d:\\program\\anaconda3\\envs\\test\\lib\\site-packages (from rlcard->gym-cardgame==0.1.0) (20.4)\n",
      "Requirement already satisfied: matplotlib>=3.0 in d:\\program\\anaconda3\\envs\\test\\lib\\site-packages (from rlcard->gym-cardgame==0.1.0) (3.1.3)\n",
      "Requirement already satisfied: future in d:\\program\\anaconda3\\envs\\test\\lib\\site-packages (from pyglet<=1.5.0,>=1.4.0->gym->gym-cardgame==0.1.0) (0.18.2)\n",
      "Requirement already satisfied: pyparsing>=2.0.2 in d:\\program\\anaconda3\\envs\\test\\lib\\site-packages (from packaging->rlcard->gym-cardgame==0.1.0) (2.4.7)\n",
      "Requirement already satisfied: six in d:\\program\\anaconda3\\envs\\test\\lib\\site-packages (from packaging->rlcard->gym-cardgame==0.1.0) (1.15.0)\n",
      "Requirement already satisfied: cycler>=0.10 in d:\\program\\anaconda3\\envs\\test\\lib\\site-packages (from matplotlib>=3.0->rlcard->gym-cardgame==0.1.0) (0.10.0)\n",
      "Requirement already satisfied: kiwisolver>=1.0.1 in d:\\program\\anaconda3\\envs\\test\\lib\\site-packages (from matplotlib>=3.0->rlcard->gym-cardgame==0.1.0) (1.1.0)\n",
      "Requirement already satisfied: python-dateutil>=2.1 in d:\\program\\anaconda3\\envs\\test\\lib\\site-packages (from matplotlib>=3.0->rlcard->gym-cardgame==0.1.0) (2.8.1)\n",
      "Requirement already satisfied: setuptools in d:\\program\\anaconda3\\envs\\test\\lib\\site-packages (from kiwisolver>=1.0.1->matplotlib>=3.0->rlcard->gym-cardgame==0.1.0) (45.2.0.post20200209)\n",
      "Installing collected packages: gym-cardgame\n",
      "  Attempting uninstall: gym-cardgame\n",
      "    Found existing installation: gym-cardgame 0.1.0\n",
      "    Uninstalling gym-cardgame-0.1.0:\n",
      "      Successfully uninstalled gym-cardgame-0.1.0\n",
      "  Running setup.py develop for gym-cardgame\n",
      "Successfully installed gym-cardgame\n"
     ]
    }
   ],
   "source": [
    "# These commands help to set up the notebook/obtain the relevant dependencies\n",
    "%load_ext autoreload\n",
    "%autoreload 2\n",
    "!pip install -e ."
   ]
  },
  {
   "cell_type": "code",
   "execution_count": 4,
   "metadata": {},
   "outputs": [],
   "source": [
    "import gym\n",
    "import agents"
   ]
  },
  {
   "cell_type": "code",
   "execution_count": 5,
   "metadata": {},
   "outputs": [],
   "source": [
    "env = gym.make('gym_cardgame:chessboard-puzzle-v0', n_cells=16)"
   ]
  },
  {
   "cell_type": "code",
   "execution_count": 8,
   "metadata": {},
   "outputs": [],
   "source": [
    "# Choose your \"players\":\n",
    "# # Random: Chooses actions randomly from possible options\n",
    "# speaker = agents.RandomSpeakerAgent(n_selection=env.n_cells, n_hint_choice=env.n_cells)\n",
    "# listener = agents.RandomListenerAgent(n_selection=env.n_cells, n_hint_choice=env.n_cells)\n",
    "\n",
    "# # Custom: Uses the logic as written in custom_agents\n",
    "# speaker = agents.Puzzle_SpeakerAgent(n_selection=env.n_cells, n_hint_choice=env.n_cells)\n",
    "# listener = agents.Puzzle_ListenerAgent(n_selection=env.n_cells, n_hint_choice=env.n_cells)\n",
    "\n",
    "# Custom: Uses the logic as written in my_agents (that you can modify)\n",
    "speaker = agents.MyPuzzleSpeakerAgent(n_selection=env.n_cells, n_hint_choice=env.n_cells)\n",
    "listener = agents.MyPuzzleListenerAgent(n_selection=env.n_cells, n_hint_choice=env.n_cells)"
   ]
  },
  {
   "cell_type": "code",
   "execution_count": 9,
   "metadata": {},
   "outputs": [
    {
     "name": "stdout",
     "output_type": "stream",
     "text": [
      "\n",
      "-----------------\n",
      "| H | H | H | H | \n",
      "-----------------\n",
      "| T | H | T | T | \n",
      "-----------------\n",
      "| T | T | T | H | \n",
      "-----------------\n",
      "| H | H | T | T | \n",
      "-----------------\n",
      "Hinter has to flip a coin\n",
      "\n",
      "==============================\n",
      "Phase 1: Speaker's Turn\n",
      "==============================\n",
      "\n",
      "-----------------\n",
      "| H | H | H | H | \n",
      "-----------------\n",
      "| T | H | T | T | \n",
      "-----------------\n",
      "| T | T | H | H | \n",
      "-----------------\n",
      "| H | H | T | T | \n",
      "-----------------\n",
      "Chosen Coin to Flip: (2, 2) (Index 10)\n",
      "Selector has to find the key\n",
      "\n",
      "==============================\n",
      "Phase 2: Listener's Turn\n",
      "==============================\n",
      "\n",
      "-----------------\n",
      "| H | H | H | H | \n",
      "-----------------\n",
      "| T | H | T | T | \n",
      "-----------------\n",
      "| T | T | H | H | \n",
      "-----------------\n",
      "| H | H | T | T | \n",
      "-----------------\n",
      "Selector's Final Choice  : (0, 0) (Index 0)\n",
      "Target Cell of Hidden Key: (2, 0) (Index 8)\n",
      "\n",
      "Players lost\n"
     ]
    }
   ],
   "source": [
    "# ==============================\n",
    "# Game Simulation Starts:\n",
    "observations = env.reset()\n",
    "env.render()\n",
    "\n",
    "# Phase 1: Speaker sees the cards + target, determines what to hint\n",
    "print(\"==============================\")\n",
    "print(\"Phase 1: Speaker's Turn\")\n",
    "print(\"==============================\")\n",
    "speaker_obs, listener_obs = observations\n",
    "speaker.observe(speaker_obs)\n",
    "listener.observe(listener_obs)\n",
    "\n",
    "speaker_action = speaker.choose_action() # random.randrange(4)\n",
    "listener_action = None\n",
    "\n",
    "observations, reward, done, info = env.step([speaker_action, listener_action])\n",
    "env.render()\n",
    "\n",
    "# Phase 2: Listener makes a choice among the cards\n",
    "print(\"==============================\")\n",
    "print(\"Phase 2: Listener's Turn\")\n",
    "print(\"==============================\")\n",
    "speaker_obs, listener_obs = observations\n",
    "speaker.observe(speaker_obs)\n",
    "listener.observe(listener_obs)\n",
    "\n",
    "speaker_action = None\n",
    "listener_action = listener.choose_action() # random.randrange(env.n_cards_shown)\n",
    "\n",
    "observations = env.step([speaker_action, listener_action])\n",
    "env.render()"
   ]
  },
  {
   "cell_type": "code",
   "execution_count": null,
   "metadata": {},
   "outputs": [],
   "source": []
  }
 ],
 "metadata": {
  "kernelspec": {
   "display_name": "Python 3",
   "language": "python",
   "name": "python3"
  },
  "language_info": {
   "codemirror_mode": {
    "name": "ipython",
    "version": 3
   },
   "file_extension": ".py",
   "mimetype": "text/x-python",
   "name": "python",
   "nbconvert_exporter": "python",
   "pygments_lexer": "ipython3",
   "version": "3.7.0"
  }
 },
 "nbformat": 4,
 "nbformat_minor": 4
}
