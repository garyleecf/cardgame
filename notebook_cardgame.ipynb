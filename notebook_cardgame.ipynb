{
 "cells": [
  {
   "cell_type": "code",
   "execution_count": 3,
   "metadata": {},
   "outputs": [
    {
     "name": "stdout",
     "output_type": "stream",
     "text": [
      "The autoreload extension is already loaded. To reload it, use:\n",
      "  %reload_ext autoreload\n",
      "Obtaining file:///D:/cardgame\n",
      "Collecting gym\n",
      "  Downloading gym-0.17.3.tar.gz (1.6 MB)\n",
      "Collecting rlcard\n",
      "  Downloading rlcard-0.2.6.tar.gz (6.7 MB)\n",
      "Requirement already satisfied: numpy in d:\\program\\anaconda3\\envs\\test\\lib\\site-packages (from gym-cardgame==0.1.0) (1.18.1)\n",
      "Requirement already satisfied: scipy in d:\\program\\anaconda3\\envs\\test\\lib\\site-packages (from gym->gym-cardgame==0.1.0) (1.4.1)\n",
      "Collecting pyglet<=1.5.0,>=1.4.0\n",
      "  Using cached pyglet-1.5.0-py2.py3-none-any.whl (1.0 MB)\n",
      "Collecting cloudpickle<1.7.0,>=1.2.0\n",
      "  Downloading cloudpickle-1.6.0-py3-none-any.whl (23 kB)\n",
      "Requirement already satisfied: matplotlib>=3.0 in d:\\program\\anaconda3\\envs\\test\\lib\\site-packages (from rlcard->gym-cardgame==0.1.0) (3.1.3)\n",
      "Requirement already satisfied: pillow>=5.2.0 in d:\\program\\anaconda3\\envs\\test\\lib\\site-packages (from rlcard->gym-cardgame==0.1.0) (7.0.0)\n",
      "Requirement already satisfied: termcolor in d:\\program\\anaconda3\\envs\\test\\lib\\site-packages (from rlcard->gym-cardgame==0.1.0) (1.1.0)\n",
      "Requirement already satisfied: packaging in d:\\program\\anaconda3\\envs\\test\\lib\\site-packages (from rlcard->gym-cardgame==0.1.0) (20.4)\n",
      "Processing c:\\users\\cheng\\appdata\\local\\pip\\cache\\wheels\\8b\\99\\a0\\81daf51dcd359a9377b110a8a886b3895921802d2fc1b2397e\\future-0.18.2-cp37-none-any.whl\n",
      "Requirement already satisfied: kiwisolver>=1.0.1 in d:\\program\\anaconda3\\envs\\test\\lib\\site-packages (from matplotlib>=3.0->rlcard->gym-cardgame==0.1.0) (1.1.0)\n",
      "Requirement already satisfied: cycler>=0.10 in d:\\program\\anaconda3\\envs\\test\\lib\\site-packages (from matplotlib>=3.0->rlcard->gym-cardgame==0.1.0) (0.10.0)\n",
      "Requirement already satisfied: python-dateutil>=2.1 in d:\\program\\anaconda3\\envs\\test\\lib\\site-packages (from matplotlib>=3.0->rlcard->gym-cardgame==0.1.0) (2.8.1)\n",
      "Requirement already satisfied: pyparsing!=2.0.4,!=2.1.2,!=2.1.6,>=2.0.1 in d:\\program\\anaconda3\\envs\\test\\lib\\site-packages (from matplotlib>=3.0->rlcard->gym-cardgame==0.1.0) (2.4.7)\n",
      "Requirement already satisfied: six in d:\\program\\anaconda3\\envs\\test\\lib\\site-packages (from packaging->rlcard->gym-cardgame==0.1.0) (1.15.0)\n",
      "Requirement already satisfied: setuptools in d:\\program\\anaconda3\\envs\\test\\lib\\site-packages (from kiwisolver>=1.0.1->matplotlib>=3.0->rlcard->gym-cardgame==0.1.0) (45.2.0.post20200209)\n",
      "Building wheels for collected packages: gym, rlcard\n",
      "  Building wheel for gym (setup.py): started\n",
      "  Building wheel for gym (setup.py): finished with status 'done'\n",
      "  Created wheel for gym: filename=gym-0.17.3-py3-none-any.whl size=1654657 sha256=348b67128ee1729034fb6ae7c182c90e3f0167b2e7c276a9c6a8861dd5fe94aa\n",
      "  Stored in directory: c:\\users\\cheng\\appdata\\local\\pip\\cache\\wheels\\d1\\81\\4b\\dd9c029691022cb957398d1f015e66b75e37637dda61abdf58\n",
      "  Building wheel for rlcard (setup.py): started\n",
      "  Building wheel for rlcard (setup.py): finished with status 'done'\n",
      "  Created wheel for rlcard: filename=rlcard-0.2.6-py3-none-any.whl size=6749792 sha256=5cea7aeff8177fdd25d7060ad6c483b7f8e34bd2c867190105d5297a93f587b0\n",
      "  Stored in directory: c:\\users\\cheng\\appdata\\local\\pip\\cache\\wheels\\32\\d8\\6d\\527a6b0150609973c9d2b0adaaae350a44c11f3532a9f4743e\n",
      "Successfully built gym rlcard\n",
      "Installing collected packages: future, pyglet, cloudpickle, gym, rlcard, gym-cardgame\n",
      "  Running setup.py develop for gym-cardgame\n",
      "Successfully installed cloudpickle-1.6.0 future-0.18.2 gym-0.17.3 gym-cardgame pyglet-1.5.0 rlcard-0.2.6\n"
     ]
    }
   ],
   "source": [
    "# These commands help to set up the notebook/obtain the relevant dependencies\n",
    "%load_ext autoreload\n",
    "%autoreload 2\n",
    "!pip install -e ."
   ]
  },
  {
   "cell_type": "code",
   "execution_count": 9,
   "metadata": {},
   "outputs": [],
   "source": [
    "import gym\n",
    "import agents"
   ]
  },
  {
   "cell_type": "code",
   "execution_count": 19,
   "metadata": {},
   "outputs": [],
   "source": [
    "env = gym.make('gym_cardgame:threecard-game-v0')\n",
    "# You can also use a harder game by using the following, and changing the arguments accordingly\n",
    "# env = gym.make('gym_cardgame:referential-game-v0', n_cards_shown=6, n_ranks=13, use_playing_cards=True)\n",
    "n_hint_choice = 4 # This defines the number of \"words\" we allow the speaker to choose from"
   ]
  },
  {
   "cell_type": "code",
   "execution_count": 20,
   "metadata": {},
   "outputs": [],
   "source": [
    "# Choose your \"players\":\n",
    "# # Naive: Only does the first action\n",
    "# speaker = agents.CardGame_SpeakerAgent(n_selection=env.n_cards_shown, n_hint_choice=n_hint_choice)\n",
    "# listener = agents.CardGame_ListenerAgent(n_selection=env.n_cards_shown, n_hint_choice=n_hint_choice)\n",
    "\n",
    "# # Random: Chooses actions randomly from possible options\n",
    "# speaker = agents.RandomSpeakerAgent(n_selection=env.n_cards_shown, n_hint_choice=n_hint_choice)\n",
    "# listener = agents.RandomListenerAgent(n_selection=env.n_cards_shown, n_hint_choice=n_hint_choice)\n",
    "\n",
    "# # Custom: Uses the logic as written in custom_agents\n",
    "# speaker = agents.CustomSpeakerAgent(n_selection=env.n_cards_shown, n_hint_choice=n_hint_choice)\n",
    "# listener = agents.CustomListenerAgent(n_selection=env.n_cards_shown, n_hint_choice=n_hint_choice)\n",
    "\n",
    "# Custom: Uses the logic as written in my_agents (that you can modify)\n",
    "speaker = agents.MyCardGameSpeakerAgent(n_selection=env.n_cards_shown, n_hint_choice=n_hint_choice)\n",
    "listener = agents.MyCardGameListenerAgent(n_selection=env.n_cards_shown, n_hint_choice=n_hint_choice)"
   ]
  },
  {
   "cell_type": "code",
   "execution_count": 21,
   "metadata": {},
   "outputs": [
    {
     "name": "stdout",
     "output_type": "stream",
     "text": [
      "┌─────────┐   ┌─────────┐   ┌─────────┐\n",
      "│2        │   │3        │   │4        │\n",
      "│         │   │         │   │         │\n",
      "│         │   │         │   │         │\n",
      "│    ♦    │   │    ♣    │   │    ♦    │\n",
      "│         │   │         │   │         │\n",
      "│         │   │         │   │         │\n",
      "│        2│   │        3│   │        4│\n",
      "└─────────┘   └─────────┘   └─────────┘\n",
      "Speaker has to give a Hint\n",
      "\n",
      "==============================\n",
      "Phase 1: Speaker's Turn\n",
      "==============================\n",
      "┌─────────┐   ┌─────────┐   ┌─────────┐\n",
      "│2        │   │3        │   │4        │\n",
      "│         │   │         │   │         │\n",
      "│         │   │         │   │         │\n",
      "│    ♦    │   │    ♣    │   │    ♦    │\n",
      "│         │   │         │   │         │\n",
      "│         │   │         │   │         │\n",
      "│        2│   │        3│   │        4│\n",
      "└─────────┘   └─────────┘   └─────────┘\n",
      "Speaker's Hint: 0\n",
      "\n",
      "==============================\n",
      "Phase 2: Listener's Turn\n",
      "==============================\n",
      "Listener's Final Choice: ♦2\n",
      "Target Card: ♦4\n",
      "\n",
      "Players lost\n",
      "\n"
     ]
    }
   ],
   "source": [
    "# ==============================\n",
    "# Game Simulation Starts:\n",
    "observations = env.reset()\n",
    "env.render()\n",
    "\n",
    "# Phase 1: Speaker sees the cards + target, determines what to hint\n",
    "print(\"==============================\")\n",
    "print(\"Phase 1: Speaker's Turn\")\n",
    "print(\"==============================\")\n",
    "speaker_obs, listener_obs = observations\n",
    "speaker.observe(speaker_obs)\n",
    "listener.observe(listener_obs)\n",
    "\n",
    "speaker_action = speaker.choose_action() # random.randrange(4)\n",
    "listener_action = None\n",
    "\n",
    "observations, reward, done, info = env.step([speaker_action, listener_action])\n",
    "env.render()\n",
    "\n",
    "# Phase 2: Listener makes a choice among the cards\n",
    "print(\"==============================\")\n",
    "print(\"Phase 2: Listener's Turn\")\n",
    "print(\"==============================\")\n",
    "speaker_obs, listener_obs = observations\n",
    "speaker.observe(speaker_obs)\n",
    "listener.observe(listener_obs)\n",
    "\n",
    "speaker_action = None\n",
    "listener_action = listener.choose_action() # random.randrange(env.n_cards_shown)\n",
    "\n",
    "observations = env.step([speaker_action, listener_action])\n",
    "env.render()"
   ]
  },
  {
   "cell_type": "code",
   "execution_count": null,
   "metadata": {},
   "outputs": [],
   "source": []
  }
 ],
 "metadata": {
  "kernelspec": {
   "display_name": "Python 3",
   "language": "python",
   "name": "python3"
  },
  "language_info": {
   "codemirror_mode": {
    "name": "ipython",
    "version": 3
   },
   "file_extension": ".py",
   "mimetype": "text/x-python",
   "name": "python",
   "nbconvert_exporter": "python",
   "pygments_lexer": "ipython3",
   "version": "3.7.0"
  }
 },
 "nbformat": 4,
 "nbformat_minor": 4
}
